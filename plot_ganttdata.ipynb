{
 "cells": [
  {
   "cell_type": "code",
   "execution_count": 1,
   "metadata": {},
   "outputs": [],
   "source": [
    "import numpy as np\n",
    "import pandas as pd\n",
    "from pygantt.pygantt import gantt\n",
    "import matplotlib.pyplot as plt\n",
    "from datetime import datetime\n",
    "from pygantt import util\n",
    "\n",
    "from pychartdir import *"
   ]
  },
  {
   "cell_type": "code",
   "execution_count": 2,
   "metadata": {},
   "outputs": [
    {
     "data": {
      "text/plain": [
       "Text(0.5, 1.0, 'Planning a concert')"
      ]
     },
     "execution_count": 2,
     "metadata": {},
     "output_type": "execute_result"
    },
    {
     "data": {
      "image/png": "[encoded data removed]",
      "text/plain": [
       "<Figure size 648x360 with 1 Axes>"
      ]
     },
     "metadata": {
      "needs_background": "light"
     },
     "output_type": "display_data"
    }
   ],
   "source": [
    "df = pd.read_csv('./data/Ganttdata/concert.csv')\n",
    "fig = plt.figure(figsize=(9,5))\n",
    "gantt(task=df.Task, \n",
    "      start=pd.to_datetime(df.Start), \n",
    "      finish=pd.to_datetime(df.Finish), \n",
    "      task_type=df.Type, \n",
    "      color={\"main\":\"steelblue\",\n",
    "             \"sub\":\"lightgreen\"})\n",
    "plt.title('Planning a concert', \n",
    "          {'fontsize': 14, \n",
    "           'fontweight' : 'heavy'})"
   ]
  },
  {
   "cell_type": "code",
   "execution_count": 6,
   "metadata": {},
   "outputs": [
    {
     "data": {
      "text/plain": [
       "1"
      ]
     },
     "execution_count": 6,
     "metadata": {},
     "output_type": "execute_result"
    }
   ],
   "source": [
    "from pychartdir import *\n",
    "\n",
    "# the names of the tasks\n",
    "labels = [\"Market Research\",\n",
    "          \"Define Specifications\",\n",
    "          \"Overall Archiecture\",\n",
    "          \"Project Planning\",\n",
    "          \"Detail Design\",\n",
    "          \"Software Development\",\n",
    "          \"Test Plan\",\n",
    "          \"Testing and QA\",\n",
    "          \"User Documentation\"]\n",
    "\n",
    "\n",
    "# the planned start dates and end dates for the tasks\n",
    "startDate = [chartTime(2004, 8, 16),\n",
    "             chartTime(2004, 8, 30),\n",
    "             chartTime(2004, 9, 13),\n",
    "             chartTime(2004, 9, 20),\n",
    "             chartTime(2004, 9, 27),\n",
    "             chartTime(2004, 10, 4),\n",
    "             chartTime(2004, 10, 25),\n",
    "             chartTime(2004, 11, 1),\n",
    "             chartTime(2004, 11, 8)]\n",
    "\n",
    "endDate = [chartTime(2004, 8, 30),\n",
    "           chartTime(2004, 9, 13),\n",
    "           chartTime(2004, 9, 27),\n",
    "           chartTime(2004, 10, 4),\n",
    "           chartTime(2004, 10, 11),\n",
    "           chartTime(2004, 11, 8),\n",
    "           chartTime(2004, 11, 8),\n",
    "           chartTime(2004, 11, 22),\n",
    "           chartTime(2004, 11, 22)]\n",
    "\n",
    "# the actual start dates and end dates for the tasks up to now\n",
    "actualStartDate = [chartTime(2004, 8, 16),\n",
    "                   chartTime(2004, 8, 27),\n",
    "                   chartTime(2004, 9, 9),\n",
    "                   chartTime(2004, 9, 18),\n",
    "                   chartTime(2004, 9, 22)]\n",
    "\n",
    "actualEndDate = [chartTime(2004, 8, 27),\n",
    "                 chartTime(2004, 9, 9),\n",
    "                 chartTime(2004, 9, 27),\n",
    "                 chartTime(2004, 10, 2),\n",
    "                 chartTime(2004, 10, 8)]\n",
    "\n",
    "# Create a XYChart object of size 620 x 280 pixels. Set background color to light\n",
    "# green (ccffcc) with 1 pixel 3D border effect.\n",
    "c = XYChart(620, 280, 0xccffcc, 0x000000, 1)\n",
    "\n",
    "# Add a title to the chart using 15 points Times Bold Itatic font, with white\n",
    "# (ffffff) text on a dark green (0x6000) background\n",
    "c.addTitle(\"Multi-Layer Gantt Chart Demo\", \"timesbi.ttf\", 15, 0xffffff\n",
    "           ).setBackground(0x006000)\n",
    "\n",
    "# Set the plotarea at (140, 55) and of size 460 x 200 pixels. Use alternative\n",
    "# white/grey background. Enable both horizontal and vertical grids by setting their\n",
    "# colors to grey (c0c0c0). Set vertical major grid (represents month boundaries) 2\n",
    "# pixels in width\n",
    "c.setPlotArea(140, 55, 460, 200, 0xffffff, 0xeeeeee, LineColor, 0xc0c0c0, 0xc0c0c0\n",
    "              ).setGridWidth(2, 1, 1, 1)\n",
    "\n",
    "# swap the x and y axes to create a horziontal box-whisker chart\n",
    "c.swapXY()\n",
    "\n",
    "# Set the y-axis scale to be date scale from Aug 16, 2004 to Nov 22, 2004, with ticks\n",
    "# every 7 days (1 week)\n",
    "c.yAxis().setDateScale(chartTime(2004, 8, 16), chartTime(2004, 11, 22), 86400 * 7)\n",
    "\n",
    "# Add a red (ff0000) dash line to represent the current day\n",
    "c.yAxis().addMark(chartTime(2004, 10, 8), c.dashLineColor(0xff0000, DashLine))\n",
    "\n",
    "# Set multi-style axis label formatting. Month labels are in Arial Bold font in \"mmm\n",
    "# d\" format. Weekly labels just show the day of month and use minor tick (by using\n",
    "# '-' as first character of format string).\n",
    "c.yAxis().setMultiFormat(StartOfMonthFilter(), \"<*font=arialbd.ttf*>{value|mmm d}\",\n",
    "                         StartOfDayFilter(), \"-{value|d}\")\n",
    "\n",
    "# Set the y-axis to shown on the top (right + swapXY = top)\n",
    "c.setYAxisOnRight()\n",
    "\n",
    "# Set the labels on the x axis\n",
    "c.xAxis().setLabels(labels)\n",
    "\n",
    "# Reverse the x-axis scale so that it points downwards.\n",
    "c.xAxis().setReverse()\n",
    "\n",
    "# Set the horizontal ticks and grid lines to be between the bars\n",
    "c.xAxis().setTickOffset(0.5)\n",
    "\n",
    "# Use blue (0000aa) as the color for the planned schedule\n",
    "plannedColor = 0x0000aa\n",
    "\n",
    "# Use a red hash pattern as the color for the actual dates. The pattern is created as\n",
    "# a 4 x 4 bitmap defined in memory as an array of colors.\n",
    "actualColor = c.patternColor([0xffffff, 0xffffff, 0xffffff, 0xff0000, 0xffffff,\n",
    "                              0xffffff, 0xff0000, 0xffffff, 0xffffff, 0xff0000,\n",
    "                              0xffffff, 0xffffff, 0xff0000, 0xffffff, 0xffffff,\n",
    "                              0xffffff], 4)\n",
    "\n",
    "# Add a box whisker layer to represent the actual dates. We add the actual dates\n",
    "# layer first, so it will be the top layer.\n",
    "actualLayer = c.addBoxLayer(\n",
    "    actualStartDate, actualEndDate, actualColor, \"Actual\")\n",
    "\n",
    "# Set the bar height to 8 pixels so they will not block the bottom bar\n",
    "actualLayer.setDataWidth(8)\n",
    "\n",
    "# Add a box-whisker layer to represent the planned schedule date\n",
    "c.addBoxLayer(startDate, endDate, plannedColor, \"Planned\").setBorderColor(\n",
    "    SameAsMainColor)\n",
    "\n",
    "# Add a legend box on the top right corner (595, 60) of the plot area with 8 pt Arial\n",
    "# Bold font. Use a semi-transparent grey (80808080) background.\n",
    "b = c.addLegend(595, 60, 0, \"arialbd.ttf\", 8)\n",
    "b.setAlignment(TopRight)\n",
    "b.setBackground(0x80808080, -1, 2)\n",
    "\n",
    "# Output the chart\n",
    "c.makeChart(\"layergantt.eps\")\n"
   ]
  },
  {
   "cell_type": "code",
   "execution_count": 11,
   "metadata": {},
   "outputs": [
    {
     "data": {
      "text/plain": [
       "Text(0.5, 1.0, 'Stationary Satellite Imager')"
      ]
     },
     "execution_count": 11,
     "metadata": {},
     "output_type": "execute_result"
    },
    {
     "data": {
      "image/png": "[encoded data removed]",
      "text/plain": [
       "<Figure size 648x360 with 1 Axes>"
      ]
     },
     "metadata": {
      "needs_background": "light"
     },
     "output_type": "display_data"
    }
   ],
   "source": [
    "df = pd.read_csv('./sat_info.csv')\n",
    "\n",
    "fig = plt.figure(figsize=(9,5))\n",
    "gantt(task=df.Inst, \n",
    "      start=pd.to_datetime(df.Start), \n",
    "      finish=pd.to_datetime(df.Finish),\n",
    "      task_type=df.Type, \n",
    "      color={\"main\":\"steelblue\",\n",
    "             \"sub\":\"lightgreen\"})\n",
    "plt.title('Stationary Satellite Imager', \n",
    "          {'fontsize': 14, \n",
    "           'fontweight' : 'heavy'})"
   ]
  },
  {
   "cell_type": "code",
   "execution_count": null,
   "metadata": {},
   "outputs": [],
   "source": []
  }
 ],
 "metadata": {
  "kernelspec": {
   "display_name": "Python 3.7.13 ('env_py37')",
   "language": "python",
   "name": "python3"
  },
  "language_info": {
   "codemirror_mode": {
    "name": "ipython",
    "version": 3
   },
   "file_extension": ".py",
   "mimetype": "text/x-python",
   "name": "python",
   "nbconvert_exporter": "python",
   "pygments_lexer": "ipython3",
   "version": "3.7.13"
  },
  "orig_nbformat": 4,
  "vscode": {
   "interpreter": {
    "hash": "da8ef4ba80d12524058165ca70f7c999ec76e3929808afa2f5acf10e77557656"
   }
  }
 },
 "nbformat": 4,
 "nbformat_minor": 2
}
